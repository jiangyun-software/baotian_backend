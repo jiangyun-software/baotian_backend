{
 "cells": [
  {
   "cell_type": "code",
   "execution_count": null,
   "metadata": {},
   "outputs": [],
   "source": [
    "!pip"
   ]
  },
  {
   "cell_type": "code",
   "execution_count": 1,
   "metadata": {},
   "outputs": [
    {
     "name": "stderr",
     "output_type": "stream",
     "text": [
      "C:\\Users\\DELL\\Anaconda3\\lib\\site-packages\\h5py\\__init__.py:36: FutureWarning: Conversion of the second argument of issubdtype from `float` to `np.floating` is deprecated. In future, it will be treated as `np.float64 == np.dtype(float).type`.\n",
      "  from ._conv import register_converters as _register_converters\n"
     ]
    },
    {
     "ename": "ModuleNotFoundError",
     "evalue": "No module named 'tensorflow.contrib'",
     "output_type": "error",
     "traceback": [
      "\u001b[1;31m---------------------------------------------------------------------------\u001b[0m",
      "\u001b[1;31mModuleNotFoundError\u001b[0m                       Traceback (most recent call last)",
      "\u001b[1;32m<ipython-input-1-6dc980150265>\u001b[0m in \u001b[0;36m<module>\u001b[1;34m\u001b[0m\n\u001b[0;32m      4\u001b[0m \u001b[1;32mimport\u001b[0m \u001b[0mnumpy\u001b[0m \u001b[1;32mas\u001b[0m \u001b[0mnp\u001b[0m\u001b[1;33m\u001b[0m\u001b[0m\n\u001b[0;32m      5\u001b[0m \u001b[1;32mimport\u001b[0m \u001b[0mos\u001b[0m\u001b[1;33m\u001b[0m\u001b[0m\n\u001b[1;32m----> 6\u001b[1;33m \u001b[1;32mfrom\u001b[0m \u001b[0mutils\u001b[0m \u001b[1;32mimport\u001b[0m \u001b[0mutils\u001b[0m\u001b[1;33m,\u001b[0m \u001b[0mhelpers\u001b[0m\u001b[1;33m\u001b[0m\u001b[0m\n\u001b[0m\u001b[0;32m      7\u001b[0m \u001b[1;32mfrom\u001b[0m \u001b[0mbuilders\u001b[0m \u001b[1;32mimport\u001b[0m \u001b[0mmodel_builder\u001b[0m\u001b[1;33m\u001b[0m\u001b[0m\n\u001b[0;32m      8\u001b[0m \u001b[1;32mfrom\u001b[0m \u001b[0mmatplotlib\u001b[0m \u001b[1;32mimport\u001b[0m \u001b[0mpyplot\u001b[0m \u001b[1;32mas\u001b[0m \u001b[0mplt\u001b[0m\u001b[1;33m\u001b[0m\u001b[0m\n",
      "\u001b[1;32mD:\\OneDrive\\学习资料\\Python\\web_predict\\utils\\utils.py\u001b[0m in \u001b[0;36m<module>\u001b[1;34m\u001b[0m\n\u001b[0;32m      2\u001b[0m \u001b[1;32mimport\u001b[0m \u001b[0mos\u001b[0m\u001b[1;33m,\u001b[0m\u001b[0mtime\u001b[0m\u001b[1;33m,\u001b[0m\u001b[0mcv2\u001b[0m\u001b[1;33m,\u001b[0m \u001b[0msys\u001b[0m\u001b[1;33m,\u001b[0m \u001b[0mmath\u001b[0m\u001b[1;33m\u001b[0m\u001b[0m\n\u001b[0;32m      3\u001b[0m \u001b[1;32mimport\u001b[0m \u001b[0mtensorflow\u001b[0m \u001b[1;32mas\u001b[0m \u001b[0mtf\u001b[0m\u001b[1;33m\u001b[0m\u001b[0m\n\u001b[1;32m----> 4\u001b[1;33m \u001b[1;32mimport\u001b[0m \u001b[0mtensorflow\u001b[0m\u001b[1;33m.\u001b[0m\u001b[0mcontrib\u001b[0m\u001b[1;33m.\u001b[0m\u001b[0mslim\u001b[0m \u001b[1;32mas\u001b[0m \u001b[0mslim\u001b[0m\u001b[1;33m\u001b[0m\u001b[0m\n\u001b[0m\u001b[0;32m      5\u001b[0m \u001b[1;32mimport\u001b[0m \u001b[0mnumpy\u001b[0m \u001b[1;32mas\u001b[0m \u001b[0mnp\u001b[0m\u001b[1;33m\u001b[0m\u001b[0m\n\u001b[0;32m      6\u001b[0m \u001b[1;32mimport\u001b[0m \u001b[0mtime\u001b[0m\u001b[1;33m,\u001b[0m \u001b[0mdatetime\u001b[0m\u001b[1;33m\u001b[0m\u001b[0m\n",
      "\u001b[1;31mModuleNotFoundError\u001b[0m: No module named 'tensorflow.contrib'"
     ]
    }
   ],
   "source": [
    "import os,time,cv2, sys, math\n",
    "import tensorflow as tf\n",
    "import argparse\n",
    "import numpy as np\n",
    "import os\n",
    "from utils import utils, helpers\n",
    "from builders import model_builder\n",
    "from matplotlib import pyplot as plt\n",
    "\n"
   ]
  },
  {
   "cell_type": "code",
   "execution_count": null,
   "metadata": {},
   "outputs": [],
   "source": [
    "def defect_predict(input_path, model_path, output_path)\n",
    "\n",
    "    parser = argparse.ArgumentParser()\n",
    "    parser.add_argument('--image', type=str, default=input_path, required=False, help='The image you want to predict on. ')\n",
    "    parser.add_argument('--checkpoint_path', type=str, default=model_path, required=False, help='The path to the latest checkpoint weights for your model.')\n",
    "    parser.add_argument('--crop_height', type=int, default=256, required=False, help='Height of cropped input image to network')\n",
    "    parser.add_argument('--crop_width', type=int, default=256, required=False, help='Width of cropped input image to network')\n",
    "    parser.add_argument('--model', type=str, default='MobileUNet', required=False, help='The model you are using')\n",
    "    parser.add_argument('--dataset', type=str, default=\"AOI\", required=False, help='The dataset you are using')\n",
    "    args = parser.parse_args()\n",
    "\n",
    "    class_names_list, label_values = helpers.get_label_info(\"class_dict.csv\")\n",
    "\n",
    "    num_classes = len(label_values)\n",
    "\n",
    "    print(\"\\n***** Begin prediction *****\")\n",
    "   \n",
    "    config = tf.ConfigProto()\n",
    "    config.gpu_options.allow_growth = True\n",
    "    sess=tf.Session(config=config)\n",
    "\n",
    "    net_input = tf.placeholder(tf.float32,shape=[None,None,None,3])\n",
    "    net_output = tf.placeholder(tf.float32,shape=[None,None,None,num_classes]) \n",
    "\n",
    "    network, _ = model_builder.build_model(args.model, net_input=net_input,\n",
    "                                            num_classes=num_classes,\n",
    "                                            crop_width=args.crop_width,\n",
    "                                            crop_height=args.crop_height,\n",
    "                                            is_training=False)\n",
    "\n",
    "    sess.run(tf.global_variables_initializer())\n",
    "    saver=tf.train.Saver(max_to_keep=1000)\n",
    "    saver.restore(sess, model_path)\n",
    "\n",
    "\n",
    "    loaded_image = utils.load_image(input_path)\n",
    "    image_list, index_list = utils.center_crop(loaded_image, 128, 1)\n",
    "    \n",
    "    vis=np.zeros((768,2560,3))\n",
    "    for j in range(len(image_list)):\n",
    "           \n",
    "        input_image = np.expand_dims(np.float32(image_list[j][:args.crop_height, :args.crop_width]),axis=0)/255.0\n",
    "        st = time.time()\n",
    "        output_image = sess.run(network,feed_dict={net_input:input_image})# what format\n",
    "        output_image = np.array(output_image[0,:,:,:])\n",
    "        output_image = helpers.reverse_one_hot(output_image)\n",
    "        run_time = time.time()-st\n",
    "        y_val=index_list[j][1]\n",
    "        x_val=index_list[j][0] \n",
    "        out_image = helpers.colour_code_segmentation(output_image, label_values)\n",
    "        vis[(y_val-1)*256:y_val*256,(x_val-1)*256:x_val*256]=out_image\n",
    "       \n",
    "    cv2.imwrite(output_path,cv2.cvtColor(cv2.resize(np.uint8(vis),(1280,384)), cv2.COLOR_RGB2BGR))\n",
    "      \n",
    "    print(\"done\")"
   ]
  },
  {
   "cell_type": "code",
   "execution_count": null,
   "metadata": {},
   "outputs": [],
   "source": [
    "#need to customize\n",
    "defect_predict(\"CCD12019-11-12_18-43-11.png\",\"checkp/model.ckpt\",\"test.png\")"
   ]
  }
 ],
 "metadata": {
  "kernelspec": {
   "display_name": "Python 3",
   "language": "python",
   "name": "python3"
  },
  "language_info": {
   "codemirror_mode": {
    "name": "ipython",
    "version": 3
   },
   "file_extension": ".py",
   "mimetype": "text/x-python",
   "name": "python",
   "nbconvert_exporter": "python",
   "pygments_lexer": "ipython3",
   "version": "3.6.6"
  }
 },
 "nbformat": 4,
 "nbformat_minor": 2
}
